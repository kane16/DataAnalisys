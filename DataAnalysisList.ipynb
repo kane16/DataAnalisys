{
 "cells": [
  {
   "cell_type": "code",
   "execution_count": 46,
   "metadata": {
    "collapsed": true
   },
   "outputs": [
    {
     "name": "stdout",
     "output_type": "stream",
     "text": [
      "   year  tweets candidate\n0  2015     346     Tracz\n1  2016     258     Tracz\n2  2017     248     Tracz\n3  2018     173     Tracz\n0  2014       1     Obara\n1  2015       4     Obara\n2  2016      27     Obara\n3  2017      48     Obara\n4  2018      52     Obara\n0  2016       1   Lempart\n1  2017    1255   Lempart\n2  2018    2458   Lempart\n0  2014      93  Michalak\n1  2015     260  Michalak\n2  2016     496  Michalak\n3  2017     672  Michalak\n4  2018     516  Michalak\n0  2016      28    Sutryk\n1  2017     482    Sutryk\n2  2018     406    Sutryk\n"
     ]
    },
    {
     "data": {
      "text/plain": [
       "<seaborn.axisgrid.FacetGrid at 0x1a1fdbfc18>"
      ]
     },
     "execution_count": 46,
     "metadata": {},
     "output_type": "execute_result"
    },
    {
     "data": {
      "text/plain": [
       "<Figure size 720x720 with 0 Axes>"
      ]
     },
     "execution_count": 0,
     "metadata": {},
     "output_type": "execute_result"
    },
    {
     "data": {
      "image/png": "[encoded data removed]",
      "text/plain": [
       "<Figure size 435.625x360 with 1 Axes>"
      ]
     },
     "metadata": {},
     "output_type": "display_data"
    }
   ],
   "source": [
    "import matplotlib.pyplot as plt\n",
    "import pandas as pd\n",
    "import re\n",
    "import matplotlib.pyplot as plt\n",
    "import seaborn as sns\n",
    "\n",
    "'''\n",
    "Wydobywanie danych z plików csv za pomocą pakietu pandas do postaci obiektu DataFrame.\n",
    "'''\n",
    "dataTracz = pd.read_csv('/Users/lukaszguminski/PycharmProjects/DataAnalysisTask/tweets_GoTracz.csv')\n",
    "dataObara = pd.read_csv('/Users/lukaszguminski/PycharmProjects/DataAnalysisTask/tweets_KatarzynaObara.csv')\n",
    "dataLempart = pd.read_csv('/Users/lukaszguminski/PycharmProjects/DataAnalysisTask/tweets_martalempart.csv')\n",
    "dataMichalak = pd.read_csv('/Users/lukaszguminski/PycharmProjects/DataAnalysisTask/tweets_MichalakJerzy.csv')\n",
    "dataSutryk = pd.read_csv('/Users/lukaszguminski/PycharmProjects/DataAnalysisTask/tweets_SutrykJacek.csv')\n",
    "'''\n",
    "Agregowanie like'ów w konkretnych datach\n",
    "'''\n",
    "\n",
    "\n",
    "def get_grouped_data(df: pd.DataFrame, candidate):\n",
    "    df['year'] = df['date'].apply(lambda x: str(x)[0:4]) \n",
    "    df = df.groupby(['year'])[['id']].count()\n",
    "    df = df.reset_index()\n",
    "    df['year'] = df['year'].apply(int)\n",
    "    df = df.rename(columns={'id': 'tweets'})\n",
    "    df['tweets'] = df['tweets'].apply(int)\n",
    "    df = df.assign(candidate=candidate)\n",
    "    return df\n",
    "\n",
    "\n",
    "likesTracz = get_grouped_data(dataTracz, 'Tracz')\n",
    "likesObara = get_grouped_data(dataObara, 'Obara')\n",
    "likesLempart = get_grouped_data(dataLempart, 'Lempart')\n",
    "likesMichalak = get_grouped_data(dataMichalak, 'Michalak')\n",
    "likesSutryk = get_grouped_data(dataSutryk, 'Sutryk')\n",
    "likes = pd.concat([likesTracz, likesObara, likesLempart, likesMichalak, likesSutryk])\n",
    "print(likes)\n",
    "plt.figure(figsize=(10,10))\n",
    "sns.catplot(x='year', y='tweets', hue='candidate', data=likes)"
   ]
  },
  {
   "cell_type": "code",
   "execution_count": 7,
   "metadata": {},
   "outputs": [],
   "source": [
    "'''\n",
    "\n",
    "'''"
   ]
  },
  {
   "cell_type": "code",
   "execution_count": null,
   "metadata": {},
   "outputs": [],
   "source": []
  }
 ],
 "metadata": {
  "kernelspec": {
   "display_name": "Python 2",
   "language": "python",
   "name": "python2"
  },
  "language_info": {
   "codemirror_mode": {
    "name": "ipython",
    "version": 2
   },
   "file_extension": ".py",
   "mimetype": "text/x-python",
   "name": "python",
   "nbconvert_exporter": "python",
   "pygments_lexer": "ipython2",
   "version": "2.7.6"
  }
 },
 "nbformat": 4,
 "nbformat_minor": 0
}
